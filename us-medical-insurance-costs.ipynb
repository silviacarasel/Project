{
 "cells": [
  {
   "cell_type": "markdown",
   "metadata": {},
   "source": [
    "# U.S. Medical Insurance Costs"
   ]
  },
  {
   "cell_type": "code",
   "execution_count": 1,
   "metadata": {},
   "outputs": [],
   "source": [
    "import csv"
   ]
  },
  {
   "cell_type": "code",
   "execution_count": 2,
   "metadata": {},
   "outputs": [],
   "source": [
    "with open(\"insurance.csv\", newline='') as insurance:\n",
    "    insurance_table = csv.DictReader(insurance)\n",
    "    list_ages, list_sex, list_bmi, list_children, list_smoker, list_region, list_charges = ([] for i in range(7))\n",
    "    for row in insurance_table: #it can be printed only indented\n",
    "        list_ages.append(row['age']) \n",
    "        list_sex.append(row['sex']) \n",
    "        list_bmi.append(row['bmi'])\n",
    "        list_children.append(row['children'])\n",
    "        list_smoker.append(row['smoker'])\n",
    "        list_region.append(row['region'])\n",
    "        list_charges.append(row['charges'])\n",
    "# using the function like in the solution it's an awesome idea"
   ]
  },
  {
   "cell_type": "code",
   "execution_count": 3,
   "metadata": {},
   "outputs": [],
   "source": [
    "# with open(\"insurance.csv\", newline='') as insurance:\n",
    "#     insurance_table = csv.DictReader(insurance)\n",
    "#     def make_list(i):\n",
    "#         lst = [row[i] for row in insurance_table]\n",
    "#         return lst\n",
    "#     list_ages = make_list(\"age\")\n",
    "#     list_sex = make_list(\"sex\") #not working\n",
    "#     list_bmi = make_list(\"bmi\")\n",
    "#     list_children = make_list(\"children\")\n",
    "#     list_smoker = make_list(\"smoker\")\n",
    "#     list_region = make_list(\"region\")\n",
    "#     list_charges = make_list(\"charges\")"
   ]
  },
  {
   "cell_type": "markdown",
   "metadata": {},
   "source": [
    "### - Find out the average age of the patients in the dataset."
   ]
  },
  {
   "cell_type": "markdown",
   "metadata": {},
   "source": [
    "* - Function"
   ]
  },
  {
   "cell_type": "code",
   "execution_count": 4,
   "metadata": {},
   "outputs": [],
   "source": [
    "def average(lst):\n",
    "    #return statistics.mean(lst) (with import statistics)\n",
    "    int_lst = [int(i) for i in lst]\n",
    "    return sum(int_lst)/len(int_lst)"
   ]
  },
  {
   "cell_type": "code",
   "execution_count": 5,
   "metadata": {},
   "outputs": [
    {
     "name": "stdout",
     "output_type": "stream",
     "text": [
      "Average age of the patients is 39.20702541106129.\n"
     ]
    }
   ],
   "source": [
    "print(\"Average age of the patients is {}.\".format(average(list_ages)))"
   ]
  },
  {
   "cell_type": "markdown",
   "metadata": {},
   "source": [
    "* - Class"
   ]
  },
  {
   "cell_type": "code",
   "execution_count": 6,
   "metadata": {},
   "outputs": [],
   "source": [
    "class Average:\n",
    "    def __init__(self,lst):\n",
    "        self.int_lst = [int(i) for i in lst]\n",
    "    def average(self):\n",
    "        return sum(self.int_lst)/len(self.int_lst)"
   ]
  },
  {
   "cell_type": "code",
   "execution_count": 7,
   "metadata": {},
   "outputs": [
    {
     "name": "stdout",
     "output_type": "stream",
     "text": [
      "<__main__.Average object at 0x7f6f2c448550>\n",
      "39.20702541106129\n"
     ]
    }
   ],
   "source": [
    "age_average = Average(list_ages) #instantiation of an object\n",
    "print(age_average)\n",
    "print(age_average.average())"
   ]
  },
  {
   "cell_type": "markdown",
   "metadata": {},
   "source": [
    "### - Analyze where a majority of the individuals are from."
   ]
  },
  {
   "cell_type": "code",
   "execution_count": 8,
   "metadata": {},
   "outputs": [],
   "source": [
    "# with open(\"insurance.csv\", newline='') as insurance_test1:\n",
    "#     insurance_test = csv.DictReader(insurance_test1)\n",
    "#     def make_list_test(i):\n",
    "#         lst = [row[i] for row in insurance_test]\n",
    "#         return lst\n",
    "#     keys = [key.keys() for key in insurance_test]\n",
    "#     print(keys[0])\n",
    "#     for i in keys[0]:\n",
    "#         list_test = make_list_test(i)\n",
    "#         print(list_test) #not working"
   ]
  },
  {
   "cell_type": "code",
   "execution_count": 13,
   "metadata": {},
   "outputs": [
    {
     "name": "stdout",
     "output_type": "stream",
     "text": [
      "{'northeast', 'southwest', 'southeast', 'northwest'}\n"
     ]
    }
   ],
   "source": [
    "print(set(list_region))"
   ]
  },
  {
   "cell_type": "markdown",
   "metadata": {},
   "source": [
    "* - Function"
   ]
  },
  {
   "cell_type": "code",
   "execution_count": 29,
   "metadata": {},
   "outputs": [],
   "source": [
    "def region(lst):\n",
    "    count = 0\n",
    "    region = ''\n",
    "    for i in set(lst):\n",
    "        if count < lst.count(i):\n",
    "            count = lst.count(i)\n",
    "            region = i\n",
    "    return region, count"
   ]
  },
  {
   "cell_type": "code",
   "execution_count": 33,
   "metadata": {},
   "outputs": [
    {
     "name": "stdout",
     "output_type": "stream",
     "text": [
      "The majority of the individuals, 364, are from southeast.\n"
     ]
    }
   ],
   "source": [
    "print(\"The majority of the individuals, {0[1]}, are from {0[0]}.\".format(region(list_region)))"
   ]
  },
  {
   "cell_type": "markdown",
   "metadata": {},
   "source": [
    "* - Class"
   ]
  },
  {
   "cell_type": "markdown",
   "metadata": {},
   "source": [
    "* - Function"
   ]
  },
  {
   "cell_type": "code",
   "execution_count": 39,
   "metadata": {},
   "outputs": [],
   "source": [
    "class Region:\n",
    "    def __init__(self,lst):\n",
    "        self.lst = lst\n",
    "        self.regions = set(lst)\n",
    "    def major_region(self):\n",
    "        count = 0\n",
    "        region = ''\n",
    "        for i in self.regions:\n",
    "            if count < self.lst.count(i):\n",
    "                count = self.lst.count(i)\n",
    "                region = i\n",
    "        return region, count"
   ]
  },
  {
   "cell_type": "code",
   "execution_count": 42,
   "metadata": {},
   "outputs": [
    {
     "name": "stdout",
     "output_type": "stream",
     "text": [
      "<__main__.Region object at 0x7f6f2c353670>\n",
      "southeast 364\n"
     ]
    }
   ],
   "source": [
    "region_majority = Region(list_region) \n",
    "print(region_majority)\n",
    "a, b = region_majority.major_region()\n",
    "print(a,b)"
   ]
  },
  {
   "cell_type": "markdown",
   "metadata": {},
   "source": [
    "### - Look at the different costs between smokers vs. non-smokers."
   ]
  },
  {
   "cell_type": "code",
   "execution_count": 76,
   "metadata": {},
   "outputs": [],
   "source": [
    "def smoke(lst1,lst2):\n",
    "    int_lst2 = [float(i) for i in lst2]\n",
    "    lst = list(zip(lst1,int_lst2))\n",
    "    sum_smoker = 0\n",
    "    sum_non_smoker = 0\n",
    "    for tup in lst:\n",
    "        if tup[0]== \"no\":\n",
    "            sum_non_smoker += tup[1]\n",
    "        else:\n",
    "            sum_smoker += tup[1]\n",
    "    return sum_smoker, sum_non_smoker"
   ]
  },
  {
   "cell_type": "code",
   "execution_count": 77,
   "metadata": {},
   "outputs": [
    {
     "name": "stdout",
     "output_type": "stream",
     "text": [
      "8781763.52184 8974061.468918996\n"
     ]
    }
   ],
   "source": [
    "a,b = smoke(list_smoker,list_charges)\n",
    "print(a,b)"
   ]
  },
  {
   "cell_type": "markdown",
   "metadata": {},
   "source": [
    "* - Function"
   ]
  },
  {
   "cell_type": "code",
   "execution_count": 88,
   "metadata": {},
   "outputs": [],
   "source": [
    "class Smoke:\n",
    "    def __init__(self,lst1,lst2):\n",
    "        self.lst1 = lst1\n",
    "        self.int_lst2 = [float(i) for i in lst2]\n",
    "        self.lst = list(zip(lst1,self.int_lst2))\n",
    "    def count_cost(self):\n",
    "        sum_smoker = 0\n",
    "        sum_non_smoker = 0\n",
    "        for tup in self.lst:\n",
    "            if tup[0]== \"no\":\n",
    "                sum_non_smoker += tup[1]\n",
    "            else:\n",
    "                sum_smoker += tup[1]\n",
    "        return sum_smoker, sum_non_smoker\n",
    "    def count(self):\n",
    "        count_smoker = 0\n",
    "        count_non_smoker = 0\n",
    "        for val in self.lst1:\n",
    "            if val == \"no\":\n",
    "                count_smoker += 1\n",
    "            else:\n",
    "                count_non_smoker += 1\n",
    "        return count_smoker, count_non_smoker\n",
    "    def percent(self):\n",
    "        nr_smoker, nr_non_smoker = self.count() #self when calling function\n",
    "        p_smoker = (nr_smoker*100)/len(self.lst1)\n",
    "        p_non_smoker = (nr_non_smoker*100)/len(self.lst1)\n",
    "        return p_smoker, p_non_smoker"
   ]
  },
  {
   "cell_type": "code",
   "execution_count": 93,
   "metadata": {},
   "outputs": [],
   "source": [
    "test = Smoke(list_smoker,list_charges)\n",
    "cost_smokers, cost_non_smokers = test.count_cost()\n",
    "nr_smokers, nr_non_smokers = test.count()\n",
    "percent_smokers, percent_non_smokers = test.percent()"
   ]
  },
  {
   "cell_type": "code",
   "execution_count": 103,
   "metadata": {},
   "outputs": [
    {
     "name": "stdout",
     "output_type": "stream",
     "text": [
      "The cost for all smokers people is 8781763.52 and 8974061.47 for non smokers. There are 1064 smokers (79.52 %) and 274 non smokers (20.48 %) in our cohort.\n",
      "The difference of cost between smokers and unsmokers is: 192297.95, with higher cost for non smokers.\n"
     ]
    }
   ],
   "source": [
    "print(\"The cost for all smokers people is {0:.2f} and {1:.2f} for non smokers. There are {2} smokers ({3:.2f} %) and {4} non smokers ({5:.2f} %) in our cohort.\".format(cost_smokers, cost_non_smokers, nr_smokers, percent_smokers, nr_non_smokers, percent_non_smokers))\n",
    "print(\"The difference of cost between smokers and unsmokers is: {diff:.2f}, with higher cost for {s}.\".format(diff = abs(cost_smokers - cost_non_smokers), s = \"smokers\" if cost_smokers > cost_non_smokers else \"non smokers\"))"
   ]
  },
  {
   "cell_type": "markdown",
   "metadata": {},
   "source": [
    "### - Figure out what the average age is for someone who has at least one child in this dataset."
   ]
  },
  {
   "cell_type": "markdown",
   "metadata": {},
   "source": [
    "* - Function"
   ]
  },
  {
   "cell_type": "code",
   "execution_count": 114,
   "metadata": {},
   "outputs": [],
   "source": [
    "def str_to_int(lst):\n",
    "    int_lst = [int(i) for i in lst]\n",
    "    return int_lst\n",
    "def zip_lists(lst1,lst2):\n",
    "    int_lst1 = str_to_int(lst1)\n",
    "    int_lst2 = str_to_int(lst2)\n",
    "    lst = list(zip(int_lst1,int_lst2))\n",
    "    return lst\n",
    "def avg_age_with_child(lst1,lst2):\n",
    "    lst = zip_lists(lst1,lst2)\n",
    "    count_age = 0\n",
    "    counter = 0\n",
    "    for tup in lst:\n",
    "        if tup[1] > 0:\n",
    "            count_age += tup[0]\n",
    "            counter += 1\n",
    "    return round(count_age/counter)"
   ]
  },
  {
   "cell_type": "code",
   "execution_count": 116,
   "metadata": {},
   "outputs": [
    {
     "name": "stdout",
     "output_type": "stream",
     "text": [
      "The average age for someone who has at least one child is 40.\n"
     ]
    }
   ],
   "source": [
    "print(\"The average age for someone who has at least one child is {}.\".format(avg_age_with_child(list_ages,list_children)))"
   ]
  },
  {
   "cell_type": "markdown",
   "metadata": {},
   "source": [
    "* - Class"
   ]
  },
  {
   "cell_type": "code",
   "execution_count": 122,
   "metadata": {},
   "outputs": [],
   "source": [
    "class AvgAgeWithChildren:\n",
    "    def __init__(self,lst1,lst2):\n",
    "        self.lst1 = lst1\n",
    "        self.lst2 = lst2\n",
    "    \n",
    "    def str_to_int(self,lst):\n",
    "        int_lst = [int(i) for i in lst]\n",
    "        return int_lst\n",
    "\n",
    "    def zip_lists(self):\n",
    "        int_lst1 = self.str_to_int(self.lst1)\n",
    "        int_lst2 = self.str_to_int(self.lst2)\n",
    "        lst = list(zip(int_lst1,int_lst2))\n",
    "        return lst\n",
    "    \n",
    "    def avg_age_with_child(self):\n",
    "        lst = self.zip_lists()\n",
    "        count_age = 0\n",
    "        counter = 0\n",
    "        for tup in lst:\n",
    "            if tup[1] > 0:\n",
    "                count_age += tup[0]\n",
    "                counter += 1\n",
    "        return round(count_age/counter)"
   ]
  },
  {
   "cell_type": "code",
   "execution_count": 123,
   "metadata": {},
   "outputs": [
    {
     "name": "stdout",
     "output_type": "stream",
     "text": [
      "<__main__.AvgAgeWithChildren object at 0x7f6f2c448d90>\n",
      "40\n"
     ]
    }
   ],
   "source": [
    "test = AvgAgeWithChildren(list_ages,list_children)\n",
    "print(test)\n",
    "print(test.avg_age_with_child())"
   ]
  }
 ],
 "metadata": {
  "kernelspec": {
   "display_name": "Python 3",
   "language": "python",
   "name": "python3"
  },
  "language_info": {
   "codemirror_mode": {
    "name": "ipython",
    "version": 3
   },
   "file_extension": ".py",
   "mimetype": "text/x-python",
   "name": "python",
   "nbconvert_exporter": "python",
   "pygments_lexer": "ipython3",
   "version": "3.8.5"
  }
 },
 "nbformat": 4,
 "nbformat_minor": 4
}
